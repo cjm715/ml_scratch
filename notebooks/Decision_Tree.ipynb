{
 "cells": [
  {
   "cell_type": "code",
   "execution_count": 1,
   "metadata": {},
   "outputs": [],
   "source": [
    "import numpy as np\n",
    "import matplotlib.pyplot as plt\n",
    "import pandas as pd\n",
    "import seaborn as sns\n",
    "from tqdm import tqdm\n",
    "plt.rcParams.update({\n",
    "    \"text.usetex\": True,\n",
    "    \"font.size\": 20\n",
    "})"
   ]
  },
  {
   "cell_type": "code",
   "execution_count": 2,
   "metadata": {},
   "outputs": [
    {
     "data": {
      "text/plain": [
       "(200,)"
      ]
     },
     "execution_count": 2,
     "metadata": {},
     "output_type": "execute_result"
    }
   ],
   "source": [
    "n = 200\n",
    "m = 2\n",
    "y = np.random.choice([-1,1], n)\n",
    "X0 = np.random.randn(n, m) - np.array([0.9, 0.9])\n",
    "X1 = np.random.randn(n, m) - np.array([-0.9, -0.9])\n",
    "X = X0.copy()\n",
    "X[y == 1] = X1[y == 1]\n",
    "y.shape"
   ]
  },
  {
   "cell_type": "code",
   "execution_count": null,
   "metadata": {},
   "outputs": [],
   "source": [
    "df = pd.DataFrame(X)\n",
    "df.columns = ['x0', 'x1']\n",
    "df['label']= y\n",
    "\n",
    "sns.set_style(\"whitegrid\")\n",
    "sns.FacetGrid(df, hue=\"label\", size=4) \\\n",
    "   .map(plt.scatter, \"x0\", \"x1\", alpha = 0.5) \\\n",
    "   .add_legend()\n",
    "plt.show()"
   ]
  },
  {
   "cell_type": "code",
   "execution_count": null,
   "metadata": {},
   "outputs": [],
   "source": [
    "\n"
   ]
  },
  {
   "cell_type": "code",
   "execution_count": null,
   "metadata": {},
   "outputs": [],
   "source": [
    "def calc_p(y):\n",
    "    if len(y) == 0:\n",
    "        return 0\n",
    "    return sum(y == 1)/len(y)\n",
    "\n",
    "def calc_gini(y):\n",
    "    p = calc_p(y)\n",
    "    G = 2*p*(1-p)\n",
    "    return G\n",
    "    \n",
    "def calc_entropy(y):\n",
    "    p = calc_p(y)\n",
    "    if p == 0 or p == 1:\n",
    "        return 0.\n",
    "    q = 1-p\n",
    "    entropy = - p*np.log(p) - q*np.log(q)\n",
    "    return entropy"
   ]
  },
  {
   "cell_type": "code",
   "execution_count": null,
   "metadata": {},
   "outputs": [],
   "source": [
    "T = 100\n",
    "\n",
    "G_list = []\n",
    "E_list = []\n",
    "p_list = []\n",
    "for i in range(0, T+1):\n",
    "    y0 = np.append(np.zeros(i), np.ones(T - i))\n",
    "    p_list.append(calc_p(y0))\n",
    "    G_list.append(calc_gini(y0))\n",
    "    E_list.append(calc_entropy(y0))\n",
    "\n",
    "plt.plot(p_list, G_list, label = 'gini')\n",
    "plt.plot(p_list, E_list, label = 'entropy')\n",
    "plt.xlabel('fraction of class 1')\n",
    "plt.title('Impurity functions')\n",
    "plt.legend()"
   ]
  },
  {
   "cell_type": "code",
   "execution_count": null,
   "metadata": {
    "scrolled": true
   },
   "outputs": [],
   "source": [
    "def split_data(feature_idx, threshold, X, y):\n",
    "    # right for data with feature greater than threshold\n",
    "    mask_right = X[:, feature_idx] > threshold\n",
    "    mask_left = np.logical_not(mask_right)\n",
    "    \n",
    "    X_left = X[mask_left, :]\n",
    "    y_left = y[mask_left]\n",
    "    \n",
    "    X_right = X[mask_right, :]\n",
    "    y_right = y[mask_right]\n",
    "    \n",
    "    return X_left, y_left, X_right, y_right\n",
    "\n",
    "def calc_split_entropy(feature_idx, threshold, X, y): \n",
    "    \n",
    "    _, y_left, _, y_right = split_data(feature_idx, threshold, X, y)\n",
    "    \n",
    "    H_left = calc_entropy(y_left)\n",
    "    H_right = calc_entropy(y_right)\n",
    "    \n",
    "    p_left = len(y_left)/len(y)\n",
    "    p_right = len(y_right)/len(y)\n",
    "    \n",
    "    H = p_left*H_left + p_right*H_right\n",
    "    \n",
    "    return H\n",
    "    "
   ]
  },
  {
   "cell_type": "code",
   "execution_count": null,
   "metadata": {},
   "outputs": [],
   "source": [
    "from collections import namedtuple\n",
    "\n",
    "Split = namedtuple('Split','feature_idx threshold entropy')\n",
    "\n",
    "def find_optimal_split(X, y):\n",
    "    cand_split_list = []\n",
    "    for feature_idx in range(X.shape[1]):\n",
    "        x_values = np.sort(X[:, feature_idx])\n",
    "        # midpoints of all x_values\n",
    "        threshold_list = (x_values[:-1] + x_values[1:])/2. \n",
    "        for threshold in threshold_list:\n",
    "            entropy = calc_split_entropy(feature_idx, threshold, X, y)\n",
    "            cand_split = Split(feature_idx = feature_idx, \n",
    "                               threshold = threshold, \n",
    "                               entropy = entropy)\n",
    "            cand_split_list.append(cand_split)\n",
    "    optimal_split = min(cand_split_list, key=lambda split: split.entropy)\n",
    "    return optimal_split"
   ]
  },
  {
   "cell_type": "code",
   "execution_count": null,
   "metadata": {},
   "outputs": [],
   "source": [
    "def numberGenerator():\n",
    "    number = 0\n",
    "    while True:\n",
    "        yield number\n",
    "        number += 1\n",
    "id_generator = numberGenerator()"
   ]
  },
  {
   "cell_type": "code",
   "execution_count": null,
   "metadata": {},
   "outputs": [],
   "source": [
    "max_depth = 3\n",
    "\n",
    "\n",
    "def build_tree(X, y, node, level):\n",
    "    p = calc_p(y)\n",
    "    level = level + 1\n",
    "    node['id'] = next(id_generator)\n",
    "    node['num_samples'] = len(y)\n",
    "    node['frac_positive'] = p\n",
    "    if level > max_depth:\n",
    "        return node\n",
    "    \n",
    "    if p == 0 or p == 1:\n",
    "        return node\n",
    "    \n",
    "    split = find_optimal_split(X, y)\n",
    "    Xl, yl, Xr, yr = split_data(split.feature_idx, split.threshold, X, y)    \n",
    "    node['split'] = split\n",
    "    node['left'] = build_tree(Xl, yl, {}, level)\n",
    "    node['right'] = build_tree(Xr, yr, {}, level)\n",
    "    \n",
    "    return node\n"
   ]
  },
  {
   "cell_type": "code",
   "execution_count": null,
   "metadata": {},
   "outputs": [],
   "source": [
    "class DecisionTree:\n",
    "    def __init__(self, max_depth=5):\n",
    "        self.root = {}\n",
    "        self.max_depth = max_depth\n",
    "        \n",
    "    def fit(self, X, y):\n",
    "        level = 0\n",
    "        node = {}\n",
    "        self.root = build_tree(X, y, node, level)\n",
    "    \n",
    "    def predict(self, X):\n",
    "        pass"
   ]
  },
  {
   "cell_type": "code",
   "execution_count": null,
   "metadata": {},
   "outputs": [],
   "source": [
    "dt = DecisionTree(max_depth=20)\n",
    "dt.fit(X, y)"
   ]
  },
  {
   "cell_type": "code",
   "execution_count": null,
   "metadata": {},
   "outputs": [],
   "source": [
    "dx = 2\n",
    "visited = set()\n",
    "\n",
    "def visit(node):\n",
    "    visited.add(node['id'])\n",
    "   \n",
    "    if 'left' in node:\n",
    "        wll, wlr = visit(node['left'])\n",
    "        wl = wll + wlr + 0.5*dx\n",
    "        node['left_dx'] = - 0.5*dx - wlr\n",
    "    else:\n",
    "        wl = 0.5*dx\n",
    "        \n",
    "    if 'right' in node:\n",
    "        wrl, wrr = visit(node['right'])\n",
    "        wr = 0.5*dx + wrl + wrr\n",
    "        node['right_dx'] = 0.5*dx + wrl\n",
    "    else:\n",
    "        wr = 0.5*dx\n",
    "    \n",
    "    return wl, wr\n",
    "\n",
    "visit(dt.root)\n"
   ]
  },
  {
   "cell_type": "code",
   "execution_count": null,
   "metadata": {},
   "outputs": [],
   "source": [
    "import matplotlib.pyplot as plt\n",
    "import matplotlib as mpl\n",
    "from matplotlib import patches\n",
    "\n",
    "fig = plt.figure(figsize= (20,20))\n",
    "ax = fig.add_subplot(111)\n",
    "\n",
    "def visit(node, xp, yp):\n",
    "    #radius = 2*node['num_samples']/y_len+0.4\n",
    "    circle = plt.Circle((xp, yp), radius, color='blue', zorder= 1)\n",
    "    ax.add_patch(circle)\n",
    "    p = node['frac_positive']\n",
    "    if p>0:\n",
    "        theta1 = 0\n",
    "        theta2 = 360*p\n",
    "        wedge = patches.Wedge((xp, yp), radius, theta1, theta2, color='orange', zorder= 1)\n",
    "        ax.add_patch(wedge)\n",
    "    \n",
    "    if 'split' in node:\n",
    "        split = node['split']\n",
    "        ax.text(xp, \n",
    "                yp+2.25, \n",
    "                rf\"$x_{split.feature_idx} > {split.threshold:.2f}$\", \n",
    "                horizontalalignment='center',\n",
    "                verticalalignment='bottom',\n",
    "                size=22,\n",
    "                bbox=dict(facecolor='white', edgecolor = 'black', alpha=1))\n",
    "    \n",
    "    if 'left' in node:\n",
    "        x = xp + node['left_dx']\n",
    "        y = yp - dy\n",
    "        ax.plot([xp, x], [yp, y], color = 'black', zorder= 0, alpha = 0.2)\n",
    "        visit(node['left'], x, y)\n",
    "            \n",
    "    if 'right' in node:\n",
    "        x = xp + node['right_dx']\n",
    "        y = yp - dy\n",
    "        ax.plot([xp, x], [yp, y], color = 'black', zorder= 0, alpha = 0.2)\n",
    "        visit(node['right'], x, y)\n",
    "        \n",
    "        \n",
    "y_len = len(y)\n",
    "radius = 1.5\n",
    "dy=6\n",
    "visit(dt.root, 0, 0)\n",
    "\n",
    "\n",
    "ax.grid(False)\n",
    "plt.axis('off')\n",
    "ax.set_aspect('equal')\n",
    "plt.show()\n",
    "fig.savefig(\"../images/decision_tree.svg\", format=\"svg\", bbox_inches='tight') "
   ]
  },
  {
   "cell_type": "code",
   "execution_count": null,
   "metadata": {},
   "outputs": [],
   "source": []
  },
  {
   "cell_type": "code",
   "execution_count": null,
   "metadata": {},
   "outputs": [],
   "source": []
  },
  {
   "cell_type": "code",
   "execution_count": null,
   "metadata": {},
   "outputs": [],
   "source": []
  },
  {
   "cell_type": "code",
   "execution_count": null,
   "metadata": {},
   "outputs": [],
   "source": []
  },
  {
   "cell_type": "code",
   "execution_count": null,
   "metadata": {},
   "outputs": [],
   "source": []
  },
  {
   "cell_type": "code",
   "execution_count": null,
   "metadata": {},
   "outputs": [],
   "source": []
  },
  {
   "cell_type": "code",
   "execution_count": null,
   "metadata": {},
   "outputs": [],
   "source": []
  },
  {
   "cell_type": "code",
   "execution_count": null,
   "metadata": {},
   "outputs": [],
   "source": []
  },
  {
   "cell_type": "code",
   "execution_count": null,
   "metadata": {},
   "outputs": [],
   "source": []
  },
  {
   "cell_type": "code",
   "execution_count": null,
   "metadata": {},
   "outputs": [],
   "source": []
  },
  {
   "cell_type": "code",
   "execution_count": null,
   "metadata": {},
   "outputs": [],
   "source": []
  },
  {
   "cell_type": "code",
   "execution_count": null,
   "metadata": {},
   "outputs": [],
   "source": []
  },
  {
   "cell_type": "code",
   "execution_count": null,
   "metadata": {},
   "outputs": [],
   "source": []
  },
  {
   "cell_type": "code",
   "execution_count": null,
   "metadata": {},
   "outputs": [],
   "source": []
  },
  {
   "cell_type": "code",
   "execution_count": null,
   "metadata": {},
   "outputs": [],
   "source": []
  },
  {
   "cell_type": "code",
   "execution_count": null,
   "metadata": {},
   "outputs": [],
   "source": []
  }
 ],
 "metadata": {
  "kernelspec": {
   "display_name": "Python 3",
   "language": "python",
   "name": "python3"
  },
  "language_info": {
   "codemirror_mode": {
    "name": "ipython",
    "version": 3
   },
   "file_extension": ".py",
   "mimetype": "text/x-python",
   "name": "python",
   "nbconvert_exporter": "python",
   "pygments_lexer": "ipython3",
   "version": "3.8.2"
  }
 },
 "nbformat": 4,
 "nbformat_minor": 4
}
