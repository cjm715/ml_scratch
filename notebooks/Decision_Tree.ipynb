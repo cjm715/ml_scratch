{
 "cells": [
  {
   "cell_type": "code",
   "execution_count": 1,
   "metadata": {},
   "outputs": [
    {
     "name": "stdout",
     "output_type": "stream",
     "text": [
      "Obtaining file:///home/chris/Projects/ml_scratch\n",
      "Installing collected packages: ml-scratch\n",
      "  Attempting uninstall: ml-scratch\n",
      "    Found existing installation: ml-scratch 0.0.1\n",
      "    Uninstalling ml-scratch-0.0.1:\n",
      "      Successfully uninstalled ml-scratch-0.0.1\n",
      "  Running setup.py develop for ml-scratch\n",
      "Successfully installed ml-scratch\n"
     ]
    }
   ],
   "source": [
    "!pip install -e .."
   ]
  },
  {
   "cell_type": "code",
   "execution_count": 2,
   "metadata": {},
   "outputs": [
    {
     "ename": "ModuleNotFoundError",
     "evalue": "No module named 'ml_scratch.DecisionTree'",
     "output_type": "error",
     "traceback": [
      "\u001b[0;31m---------------------------------------------------------------------------\u001b[0m",
      "\u001b[0;31mModuleNotFoundError\u001b[0m                       Traceback (most recent call last)",
      "\u001b[0;32m<ipython-input-2-ce77ef03fe64>\u001b[0m in \u001b[0;36m<module>\u001b[0;34m\u001b[0m\n\u001b[0;32m----> 1\u001b[0;31m \u001b[0;32mimport\u001b[0m \u001b[0mml_scratch\u001b[0m \u001b[0;32mas\u001b[0m \u001b[0mml\u001b[0m\u001b[0;34m\u001b[0m\u001b[0;34m\u001b[0m\u001b[0m\n\u001b[0m",
      "\u001b[0;32m~/Projects/ml_scratch/ml_scratch/__init__.py\u001b[0m in \u001b[0;36m<module>\u001b[0;34m\u001b[0m\n\u001b[1;32m      2\u001b[0m \u001b[0;32mfrom\u001b[0m \u001b[0;34m.\u001b[0m\u001b[0mlogisticRegression\u001b[0m \u001b[0;32mimport\u001b[0m \u001b[0mlogisticRegression\u001b[0m\u001b[0;34m\u001b[0m\u001b[0;34m\u001b[0m\u001b[0m\n\u001b[1;32m      3\u001b[0m \u001b[0;32mfrom\u001b[0m \u001b[0;34m.\u001b[0m\u001b[0mGDA\u001b[0m \u001b[0;32mimport\u001b[0m \u001b[0mGDA\u001b[0m\u001b[0;34m,\u001b[0m \u001b[0mgaussian_pdf\u001b[0m\u001b[0;34m\u001b[0m\u001b[0;34m\u001b[0m\u001b[0m\n\u001b[0;32m----> 4\u001b[0;31m \u001b[0;32mfrom\u001b[0m \u001b[0;34m.\u001b[0m\u001b[0mDecisionTree\u001b[0m \u001b[0;32mimport\u001b[0m \u001b[0mDecisionTree\u001b[0m\u001b[0;34m\u001b[0m\u001b[0;34m\u001b[0m\u001b[0m\n\u001b[0m\u001b[1;32m      5\u001b[0m \u001b[0;34m\u001b[0m\u001b[0m\n\u001b[1;32m      6\u001b[0m __all__ = [\n",
      "\u001b[0;31mModuleNotFoundError\u001b[0m: No module named 'ml_scratch.DecisionTree'"
     ]
    }
   ],
   "source": [
    "import ml_scratch as ml"
   ]
  },
  {
   "cell_type": "code",
   "execution_count": null,
   "metadata": {},
   "outputs": [],
   "source": [
    "import numpy as np\n",
    "import matplotlib.pyplot as plt\n",
    "import pandas as pd\n",
    "import seaborn as sns\n",
    "from tqdm import tqdm\n",
    "plt.rcParams.update({\n",
    "    \"text.usetex\": True,\n",
    "    \"font.size\": 20\n",
    "})"
   ]
  },
  {
   "cell_type": "code",
   "execution_count": null,
   "metadata": {},
   "outputs": [],
   "source": [
    "n = 200\n",
    "m = 2\n",
    "y = np.random.choice([-1,1], n)\n",
    "X0 = np.random.randn(n, m) - np.array([0.9, 0.9])\n",
    "X1 = np.random.randn(n, m) - np.array([-0.9, -0.9])\n",
    "X = X0.copy()\n",
    "X[y == 1] = X1[y == 1]\n",
    "y.shape"
   ]
  },
  {
   "cell_type": "code",
   "execution_count": null,
   "metadata": {},
   "outputs": [],
   "source": [
    "df = pd.DataFrame(X)\n",
    "df.columns = ['x0', 'x1']\n",
    "df['label']= y\n",
    "\n",
    "sns.set_style(\"whitegrid\")\n",
    "sns.FacetGrid(df, hue=\"label\", size=4) \\\n",
    "   .map(plt.scatter, \"x0\", \"x1\", alpha = 0.5) \\\n",
    "   .add_legend()\n",
    "plt.show()"
   ]
  },
  {
   "cell_type": "code",
   "execution_count": null,
   "metadata": {},
   "outputs": [],
   "source": [
    "\n",
    "        \n"
   ]
  },
  {
   "cell_type": "code",
   "execution_count": null,
   "metadata": {},
   "outputs": [],
   "source": [
    "dt = DecisionTree(max_depth=3)\n",
    "dt.fit(X, y)"
   ]
  },
  {
   "cell_type": "code",
   "execution_count": null,
   "metadata": {},
   "outputs": [],
   "source": [
    "dx = 2\n",
    "\n",
    "def visit(node):\n",
    "    if 'left' in node:\n",
    "        wll, wlr = visit(node['left'])\n",
    "        wl = wll + wlr + 0.5*dx\n",
    "        node['left_dx'] = - 0.5*dx - wlr\n",
    "    else:\n",
    "        wl = 0.5*dx\n",
    "        \n",
    "    if 'right' in node:\n",
    "        wrl, wrr = visit(node['right'])\n",
    "        wr = 0.5*dx + wrl + wrr\n",
    "        node['right_dx'] = 0.5*dx + wrl\n",
    "    else:\n",
    "        wr = 0.5*dx\n",
    "    return wl, wr\n",
    "visit(dt.root)"
   ]
  },
  {
   "cell_type": "code",
   "execution_count": null,
   "metadata": {},
   "outputs": [],
   "source": [
    "import matplotlib.pyplot as plt\n",
    "import matplotlib as mpl\n",
    "from matplotlib import patches\n",
    "from matplotlib.lines import Line2D\n",
    "\n",
    "fig = plt.figure(figsize= (20,20))\n",
    "ax = fig.add_subplot(111)\n",
    "\n",
    "def visit(node, xp, yp):\n",
    "    #radius = 2*node['num_samples']/y_len+0.4\n",
    "    circle = plt.Circle((xp, yp), radius, color='blue', zorder= 1)\n",
    "    ax.add_patch(circle)\n",
    "    p = node['frac_positive']\n",
    "    if p>0:\n",
    "        theta1 = 0\n",
    "        theta2 = 360*p\n",
    "        wedge = patches.Wedge((xp, yp), radius, theta1, theta2, color='orange', zorder= 1, label = 'class 1')\n",
    "        ax.add_patch(wedge)\n",
    "    \n",
    "    if 'split' in node:\n",
    "        split = node['split']\n",
    "        ax.text(xp, \n",
    "                yp+2.25, \n",
    "                rf\"$x_{split.feature_idx} > {split.threshold:.2f}$\", \n",
    "                horizontalalignment='center',\n",
    "                verticalalignment='bottom',\n",
    "                size=22,\n",
    "                bbox=dict(facecolor='white', edgecolor = 'black', alpha=1))\n",
    "    \n",
    "    if 'left' in node:\n",
    "        x = xp + node['left_dx']\n",
    "        y = yp - dy\n",
    "        ax.plot([xp, x], [yp, y], color = 'black', zorder= 0, alpha = 0.2)\n",
    "        visit(node['left'], x, y)\n",
    "            \n",
    "    if 'right' in node:\n",
    "        x = xp + node['right_dx']\n",
    "        y = yp - dy\n",
    "        ax.plot([xp, x], [yp, y], color = 'black', zorder= 0, alpha = 0.2)\n",
    "        visit(node['right'], x, y)\n",
    "        \n",
    "        \n",
    "y_len = len(y)\n",
    "radius = 1.5\n",
    "dy=6\n",
    "visit(dt.root, 0, 0)\n",
    "\n",
    "cmap = plt.cm.coolwarm\n",
    "custom_lines = [Line2D([0], [0], color=\"blue\", lw=20, solid_capstyle='butt'),\n",
    "                Line2D([0], [0], color=\"orange\", lw=20,  solid_capstyle='butt')]\n",
    "ax.legend(custom_lines, ['Class -1', 'Class 1'])\n",
    "\n",
    "ax.grid(False)\n",
    "plt.axis('off')\n",
    "ax.set_aspect('equal')\n",
    "plt.show()\n",
    "fig.savefig(\"../images/decision_tree.svg\", format=\"svg\", bbox_inches='tight') "
   ]
  },
  {
   "cell_type": "code",
   "execution_count": null,
   "metadata": {},
   "outputs": [],
   "source": []
  },
  {
   "cell_type": "code",
   "execution_count": null,
   "metadata": {},
   "outputs": [],
   "source": []
  },
  {
   "cell_type": "code",
   "execution_count": null,
   "metadata": {},
   "outputs": [],
   "source": []
  },
  {
   "cell_type": "code",
   "execution_count": null,
   "metadata": {},
   "outputs": [],
   "source": []
  },
  {
   "cell_type": "code",
   "execution_count": null,
   "metadata": {},
   "outputs": [],
   "source": []
  },
  {
   "cell_type": "code",
   "execution_count": null,
   "metadata": {},
   "outputs": [],
   "source": []
  },
  {
   "cell_type": "code",
   "execution_count": null,
   "metadata": {},
   "outputs": [],
   "source": []
  },
  {
   "cell_type": "code",
   "execution_count": null,
   "metadata": {},
   "outputs": [],
   "source": []
  },
  {
   "cell_type": "code",
   "execution_count": null,
   "metadata": {},
   "outputs": [],
   "source": []
  },
  {
   "cell_type": "code",
   "execution_count": null,
   "metadata": {},
   "outputs": [],
   "source": []
  },
  {
   "cell_type": "code",
   "execution_count": null,
   "metadata": {},
   "outputs": [],
   "source": []
  },
  {
   "cell_type": "code",
   "execution_count": null,
   "metadata": {},
   "outputs": [],
   "source": []
  },
  {
   "cell_type": "code",
   "execution_count": null,
   "metadata": {},
   "outputs": [],
   "source": []
  },
  {
   "cell_type": "code",
   "execution_count": null,
   "metadata": {},
   "outputs": [],
   "source": []
  },
  {
   "cell_type": "code",
   "execution_count": null,
   "metadata": {},
   "outputs": [],
   "source": []
  },
  {
   "cell_type": "code",
   "execution_count": null,
   "metadata": {},
   "outputs": [],
   "source": []
  }
 ],
 "metadata": {
  "kernelspec": {
   "display_name": "Python 3",
   "language": "python",
   "name": "python3"
  },
  "language_info": {
   "codemirror_mode": {
    "name": "ipython",
    "version": 3
   },
   "file_extension": ".py",
   "mimetype": "text/x-python",
   "name": "python",
   "nbconvert_exporter": "python",
   "pygments_lexer": "ipython3",
   "version": "3.8.2"
  }
 },
 "nbformat": 4,
 "nbformat_minor": 4
}
