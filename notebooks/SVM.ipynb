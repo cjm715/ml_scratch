{
 "cells": [
  {
   "cell_type": "code",
   "execution_count": 1,
   "metadata": {},
   "outputs": [],
   "source": [
    "import numpy as np\n",
    "import matplotlib.pyplot as plt\n",
    "import pandas as pd\n",
    "import seaborn as sns\n",
    "from tqdm import tqdm\n",
    "plt.rcParams.update({\n",
    "    \"text.usetex\": True,\n",
    "    \"font.size\": 20\n",
    "})"
   ]
  },
  {
   "cell_type": "code",
   "execution_count": 2,
   "metadata": {},
   "outputs": [],
   "source": [
    "n = 200\n",
    "m = 2\n",
    "y = np.random.choice([-1,1], n)\n",
    "X0 = np.random.randn(n, m) - np.array([0.9, 0.9])\n",
    "X1 = np.random.randn(n, m) - np.array([-0.9, -0.9])\n",
    "X = X0.copy()\n",
    "X[y == 1] = X1[y == 1]"
   ]
  },
  {
   "cell_type": "code",
   "execution_count": 10,
   "metadata": {},
   "outputs": [],
   "source": [
    "n = 200\n",
    "m = 2\n",
    "X = np.random.randn(n, m)\n",
    "y = np.ones(n)\n",
    "\n",
    "mask = (X[:,0]**2 + X[:,1]**2 > 1)\n",
    "y[mask] = -1"
   ]
  },
  {
   "cell_type": "code",
   "execution_count": 11,
   "metadata": {},
   "outputs": [
    {
     "data": {
      "image/png": "[encoded data removed]",
      "text/plain": [
       "<Figure size 390.188x288 with 1 Axes>"
      ]
     },
     "metadata": {},
     "output_type": "display_data"
    }
   ],
   "source": [
    "df = pd.DataFrame(X)\n",
    "df.columns = ['x0', 'x1']\n",
    "df['label']= y\n",
    "\n",
    "sns.set_style(\"whitegrid\")\n",
    "sns.FacetGrid(df, hue=\"label\", size=4) \\\n",
    "   .map(plt.scatter, \"x0\", \"x1\", alpha = 0.5) \\\n",
    "   .add_legend()\n",
    "plt.show()"
   ]
  },
  {
   "cell_type": "code",
   "execution_count": 16,
   "metadata": {
    "scrolled": false
   },
   "outputs": [
    {
     "name": "stderr",
     "output_type": "stream",
     "text": [
      "100%|██████████| 1000/1000 [00:01<00:00, 762.08it/s]\n"
     ]
    }
   ],
   "source": [
    "\n",
    "def kernel(x,z):\n",
    "    if len(x.shape)==1:\n",
    "        x = x[None, :]\n",
    "    if len(z.shape)==1:\n",
    "        z = z[None, :]\n",
    "    return x.dot(z.T)\n",
    "\n",
    "def kernel(x,z):\n",
    "    if len(x.shape)==1:\n",
    "        x = x[None, :]\n",
    "    if len(z.shape)==1:\n",
    "        z = z[None, :]\n",
    "    return (x.dot(z.T) + 1)**2\n",
    "\n",
    "def kernel(x,z):\n",
    "    if len(x.shape)==1:\n",
    "        x = x[None, :]\n",
    "    if len(z.shape)==1:\n",
    "        z = z[None, :]\n",
    "    sigma = 0.5\n",
    "    dist = np.linalg.norm(x[:, None, :] - z[None, :, :], axis=-1)\n",
    "    return np.exp(-dist**2 /(2*sigma**2))\n",
    "    \n",
    "\n",
    "def find_b(alpha_s, C, X_s, y_s):\n",
    "    k_s = kernel(X_s, X_s)\n",
    "    ayk_term = alpha_s[None,:] * y_s[None,:] * k_s\n",
    "    diff = y_s - np.sum(ayk_term, axis=1)\n",
    "    \n",
    "    if diff.size > 0: \n",
    "        b = np.mean(diff)\n",
    "    else:\n",
    "        b = 0\n",
    "    return b\n",
    "        \n",
    "def f(alpha, C, X, y, z, tol=1e-3):\n",
    "    support_mask = (alpha > tol)*(alpha < (C-tol))\n",
    "    #print(sum(support_mask))\n",
    "    \n",
    "    if sum(support_mask) == 0:\n",
    "        return 0\n",
    "    \n",
    "    X_s = X[support_mask, :]\n",
    "    K_s = kernel(X_s, z) # n x 1 vector\n",
    "    alpha_s = alpha[support_mask]\n",
    "    y_s = y[support_mask]\n",
    "    \n",
    "    ayk_term = alpha_s * y_s * K_s[:,0]\n",
    "    b = find_b(alpha_s, C, X_s, y_s)   \n",
    "    \n",
    "    return sum(ayk_term) + b\n",
    "\n",
    "n, m = X.shape\n",
    "tol = 1e-3\n",
    "num_iterations = int(1e3)\n",
    "alpha = np.zeros(n)\n",
    "C = 2\n",
    "\n",
    "for _ in tqdm(range(num_iterations)):\n",
    "    i, j = np.random.choice(np.arange(n), 2, replace = False)\n",
    "\n",
    "    x1 = X[i, :]\n",
    "    x2 = X[j, :]\n",
    "    y1 = y[i]\n",
    "    y2 = y[j]\n",
    "    a1_old = alpha[i]\n",
    "    a2_old = alpha[j]\n",
    "    \n",
    "    if y1 == y2:\n",
    "        L = max(0, a2_old + a1_old - C)\n",
    "        H = min(C, a2_old + a1_old)\n",
    "    else:\n",
    "        L = max(0, a2_old - a1_old)\n",
    "        H = min(C, C + a2_old - a1_old)\n",
    "    \n",
    "    # second derivative of objective along diagonal line for constraint\n",
    "    nu = 2 * kernel(x1, x2)- kernel(x1, x1) - kernel(x2, x2)\n",
    "    nu = nu[0,0]\n",
    "    \n",
    "    E1 = f(alpha, C, X, y, x1) - y1\n",
    "    E2 = f(alpha, C, X, y, x2) - y2\n",
    "    \n",
    "    a2_new = a2_old - y2*(E1-E2)/nu\n",
    "    \n",
    "    if a2_new >= H:\n",
    "        a2_new = H\n",
    "    if a2_new <= L:\n",
    "        a2_new = L\n",
    "    \n",
    "    s = y1*y2\n",
    "    \n",
    "    a1_new = a1_old + s*(a2_old - a2_new)\n",
    "    \n",
    "    alpha[i] = a1_new\n",
    "    alpha[j] = a2_new"
   ]
  },
  {
   "cell_type": "code",
   "execution_count": 19,
   "metadata": {},
   "outputs": [
    {
     "name": "stderr",
     "output_type": "stream",
     "text": [
      "/home/chris/miniconda3/lib/python3.8/site-packages/seaborn/axisgrid.py:243: UserWarning: The `size` parameter has been renamed to `height`; please update your code.\n",
      "  warnings.warn(msg, UserWarning)\n"
     ]
    },
    {
     "name": "stdout",
     "output_type": "stream",
     "text": [
      "(71289, 2)\n"
     ]
    },
    {
     "data": {
      "image/png": "[encoded data removed]",
      "text/plain": [
       "<Figure size 504x504 with 1 Axes>"
      ]
     },
     "metadata": {},
     "output_type": "display_data"
    }
   ],
   "source": [
    "\n",
    "def plot_label_heatmap(ax):\n",
    "    delta = 0.03\n",
    "    xc = np.arange(-4.0, 4.0, delta)\n",
    "    yc = np.arange(-4.0, 4.0, delta)\n",
    "    X_contour, Y_contour = np.meshgrid(xc, yc)\n",
    "\n",
    "    XY_contour = np.stack([X_contour.flatten(), \n",
    "              Y_contour.flatten()], axis= 1)\n",
    "    print(XY_contour.shape)\n",
    "    Z0 = np.zeros(XY_contour.shape[0])\n",
    "    for i in range(XY_contour.shape[0]):\n",
    "        Z0[i] = f(alpha, C, X, y, XY_contour[i, :])\n",
    "        \n",
    "    Z0 = 1*(Z0 > 0.0)\n",
    "    Z0 = Z0.reshape(X_contour.shape)\n",
    "    CS = ax.contourf(X_contour, Y_contour, Z0, alpha = 0.15)\n",
    "    return ax\n",
    "    \n",
    "res = sns.FacetGrid(data=df, hue=\"label\", size=7) \\\n",
    "   .map(plt.scatter, \"x0\", \"x1\", alpha = 0.5) \\\n",
    "   #.add_legend()\n",
    "\n",
    "ax = res.ax\n",
    "\n",
    "ax = plot_label_heatmap(ax)\n",
    "\n",
    "ax.set_xlabel(r'$x_0$', fontsize = 20)\n",
    "ax.set_ylabel(r'$x_1$', fontsize = 20)\n",
    "\n",
    "\n",
    "# replace labels\n",
    "new_labels = [r'class -1', r'class 1']\n",
    "ax.legend(\n",
    "    labels = new_labels\n",
    ")\n",
    "plt.show()"
   ]
  },
  {
   "cell_type": "code",
   "execution_count": null,
   "metadata": {},
   "outputs": [],
   "source": []
  },
  {
   "cell_type": "code",
   "execution_count": null,
   "metadata": {},
   "outputs": [],
   "source": []
  },
  {
   "cell_type": "code",
   "execution_count": null,
   "metadata": {},
   "outputs": [],
   "source": []
  }
 ],
 "metadata": {
  "kernelspec": {
   "display_name": "Python 3",
   "language": "python",
   "name": "python3"
  },
  "language_info": {
   "codemirror_mode": {
    "name": "ipython",
    "version": 3
   },
   "file_extension": ".py",
   "mimetype": "text/x-python",
   "name": "python",
   "nbconvert_exporter": "python",
   "pygments_lexer": "ipython3",
   "version": "3.8.2"
  }
 },
 "nbformat": 4,
 "nbformat_minor": 4
}
