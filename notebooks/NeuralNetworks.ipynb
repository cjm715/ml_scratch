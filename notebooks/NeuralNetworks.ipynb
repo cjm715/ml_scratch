{
 "cells": [
  {
   "cell_type": "code",
   "execution_count": 1,
   "metadata": {},
   "outputs": [
    {
     "name": "stdout",
     "output_type": "stream",
     "text": [
      "Obtaining file:///home/chris/Projects/ml_scratch\n",
      "Installing collected packages: ml-scratch\n",
      "  Attempting uninstall: ml-scratch\n",
      "    Found existing installation: ml-scratch 0.0.1\n",
      "    Uninstalling ml-scratch-0.0.1:\n",
      "      Successfully uninstalled ml-scratch-0.0.1\n",
      "  Running setup.py develop for ml-scratch\n",
      "Successfully installed ml-scratch\n"
     ]
    }
   ],
   "source": [
    "!pip install -e .."
   ]
  },
  {
   "cell_type": "code",
   "execution_count": 25,
   "metadata": {
    "scrolled": true
   },
   "outputs": [
    {
     "name": "stdout",
     "output_type": "stream",
     "text": [
      "0    Loss:  0.2302777269500553    Train Accuracy:  0.10647181628392484    Val Accuracy 0.11388888888888889\n",
      "100    Loss:  0.2274324206112172    Train Accuracy:  0.23869171885873347    Val Accuracy 0.2111111111111111\n",
      "200    Loss:  0.16442115086050826    Train Accuracy:  0.6318719554627696    Val Accuracy 0.5916666666666667\n",
      "300    Loss:  0.07724069353675027    Train Accuracy:  0.8114126652748782    Val Accuracy 0.7888888888888889\n",
      "400    Loss:  0.046451673576902386    Train Accuracy:  0.907446068197634    Val Accuracy 0.8805555555555555\n",
      "500    Loss:  0.033104830528363084    Train Accuracy:  0.9276270006958942    Val Accuracy 0.8861111111111111\n",
      "600    Loss:  0.025246136517603688    Train Accuracy:  0.9394572025052192    Val Accuracy 0.9166666666666666\n",
      "700    Loss:  0.02109414034711156    Train Accuracy:  0.9498956158663883    Val Accuracy 0.9166666666666666\n",
      "800    Loss:  0.01795214943119974    Train Accuracy:  0.9561586638830898    Val Accuracy 0.9277777777777778\n",
      "900    Loss:  0.01582912773478665    Train Accuracy:  0.9638135003479471    Val Accuracy 0.9305555555555556\n",
      "1000    Loss:  0.014236276634324618    Train Accuracy:  0.9665970772442589    Val Accuracy 0.9361111111111111\n",
      "1100    Loss:  0.013083196226967875    Train Accuracy:  0.9714683368128044    Val Accuracy 0.9388888888888889\n",
      "1200    Loss:  0.012605839955710333    Train Accuracy:  0.9728601252609603    Val Accuracy 0.9333333333333333\n",
      "1300    Loss:  0.011301935081366623    Train Accuracy:  0.9756437021572721    Val Accuracy 0.9444444444444444\n",
      "1400    Loss:  0.010344062494858055    Train Accuracy:  0.9756437021572721    Val Accuracy 0.9555555555555556\n",
      "1500    Loss:  0.01028578006380637    Train Accuracy:  0.977731384829506    Val Accuracy 0.9527777777777777\n",
      "1600    Loss:  0.009133018167475356    Train Accuracy:  0.9826026443980515    Val Accuracy 0.9555555555555556\n",
      "1700    Loss:  0.008734568592255663    Train Accuracy:  0.9798190675017397    Val Accuracy 0.9527777777777777\n",
      "1800    Loss:  0.008261316643775553    Train Accuracy:  0.9832985386221295    Val Accuracy 0.9555555555555556\n",
      "1900    Loss:  0.007994232089712058    Train Accuracy:  0.9839944328462074    Val Accuracy 0.95\n",
      "2000    Loss:  0.00776156794692787    Train Accuracy:  0.9812108559498957    Val Accuracy 0.95\n",
      "2100    Loss:  0.007488674658812241    Train Accuracy:  0.9874739039665971    Val Accuracy 0.9583333333333334\n",
      "2200    Loss:  0.006750964598532175    Train Accuracy:  0.9846903270702854    Val Accuracy 0.9555555555555556\n",
      "2300    Loss:  0.006616059639713949    Train Accuracy:  0.9895615866388309    Val Accuracy 0.9555555555555556\n",
      "2400    Loss:  0.006738137974887273    Train Accuracy:  0.9846903270702854    Val Accuracy 0.9555555555555556\n",
      "2500    Loss:  0.00629967432803038    Train Accuracy:  0.9902574808629089    Val Accuracy 0.9555555555555556\n",
      "2600    Loss:  0.006044503256496323    Train Accuracy:  0.9867780097425192    Val Accuracy 0.9611111111111111\n",
      "2700    Loss:  0.005493305635227565    Train Accuracy:  0.9895615866388309    Val Accuracy 0.9611111111111111\n",
      "2800    Loss:  0.005332405658272451    Train Accuracy:  0.988865692414753    Val Accuracy 0.9555555555555556\n",
      "2900    Loss:  0.00531064952156122    Train Accuracy:  0.9895615866388309    Val Accuracy 0.9583333333333334\n",
      "3000    Loss:  0.0049707960347595065    Train Accuracy:  0.9909533750869868    Val Accuracy 0.9583333333333334\n",
      "3100    Loss:  0.004764592560445183    Train Accuracy:  0.9916492693110647    Val Accuracy 0.9555555555555556\n",
      "3200    Loss:  0.004584589913474615    Train Accuracy:  0.9916492693110647    Val Accuracy 0.9583333333333334\n",
      "3300    Loss:  0.004498075552865461    Train Accuracy:  0.988169798190675    Val Accuracy 0.9555555555555556\n",
      "3400    Loss:  0.004288870524708868    Train Accuracy:  0.9916492693110647    Val Accuracy 0.9555555555555556\n",
      "3500    Loss:  0.004230748003874758    Train Accuracy:  0.9937369519832986    Val Accuracy 0.9555555555555556\n",
      "3600    Loss:  0.0041378570489227565    Train Accuracy:  0.9951287404314544    Val Accuracy 0.9555555555555556\n",
      "3700    Loss:  0.0038969245229956814    Train Accuracy:  0.9930410577592206    Val Accuracy 0.9611111111111111\n",
      "3800    Loss:  0.003806525404801161    Train Accuracy:  0.9937369519832986    Val Accuracy 0.9555555555555556\n",
      "3900    Loss:  0.003709891143559285    Train Accuracy:  0.9958246346555324    Val Accuracy 0.9555555555555556\n",
      "4000    Loss:  0.0035666334864328177    Train Accuracy:  0.9958246346555324    Val Accuracy 0.9555555555555556\n",
      "4100    Loss:  0.003529717896122185    Train Accuracy:  0.9958246346555324    Val Accuracy 0.9555555555555556\n",
      "4200    Loss:  0.0033685036802067305    Train Accuracy:  0.9972164231036882    Val Accuracy 0.9583333333333334\n",
      "4300    Loss:  0.0033338062443862213    Train Accuracy:  0.9958246346555324    Val Accuracy 0.9583333333333334\n",
      "4400    Loss:  0.0033177525790854274    Train Accuracy:  0.9951287404314544    Val Accuracy 0.9555555555555556\n",
      "4500    Loss:  0.003076946681694611    Train Accuracy:  0.9965205288796103    Val Accuracy 0.9583333333333334\n",
      "4600    Loss:  0.0031326077143786235    Train Accuracy:  0.9965205288796103    Val Accuracy 0.9527777777777777\n",
      "4700    Loss:  0.0029554136545463664    Train Accuracy:  0.9965205288796103    Val Accuracy 0.9555555555555556\n",
      "4800    Loss:  0.002930391335371293    Train Accuracy:  0.9972164231036882    Val Accuracy 0.9555555555555556\n",
      "4900    Loss:  0.002885057569600511    Train Accuracy:  0.9965205288796103    Val Accuracy 0.9611111111111111\n",
      "5000    Loss:  0.002842047754739901    Train Accuracy:  0.9951287404314544    Val Accuracy 0.9583333333333334\n",
      "5100    Loss:  0.002733008246492182    Train Accuracy:  0.9972164231036882    Val Accuracy 0.9611111111111111\n",
      "5200    Loss:  0.002646633104068978    Train Accuracy:  0.9972164231036882    Val Accuracy 0.9583333333333334\n",
      "5300    Loss:  0.002695450778440088    Train Accuracy:  0.9958246346555324    Val Accuracy 0.9583333333333334\n",
      "5400    Loss:  0.002499771072341883    Train Accuracy:  0.9972164231036882    Val Accuracy 0.9583333333333334\n",
      "5500    Loss:  0.0024343963636479556    Train Accuracy:  0.9958246346555324    Val Accuracy 0.9583333333333334\n",
      "5600    Loss:  0.0023520533300591365    Train Accuracy:  0.9979123173277662    Val Accuracy 0.9555555555555556\n",
      "5700    Loss:  0.0024034452875286816    Train Accuracy:  0.9965205288796103    Val Accuracy 0.9555555555555556\n",
      "5800    Loss:  0.002254268705816411    Train Accuracy:  0.9979123173277662    Val Accuracy 0.9555555555555556\n",
      "5900    Loss:  0.0021981834339971583    Train Accuracy:  0.9979123173277662    Val Accuracy 0.9555555555555556\n",
      "6000    Loss:  0.002189488805610195    Train Accuracy:  0.9979123173277662    Val Accuracy 0.9611111111111111\n",
      "6100    Loss:  0.0021125335096273136    Train Accuracy:  0.9979123173277662    Val Accuracy 0.9611111111111111\n",
      "6200    Loss:  0.002261312887601116    Train Accuracy:  0.9979123173277662    Val Accuracy 0.9583333333333334\n",
      "6300    Loss:  0.0023164100927500473    Train Accuracy:  0.9979123173277662    Val Accuracy 0.9638888888888889\n",
      "6400    Loss:  0.002223702139635302    Train Accuracy:  0.9965205288796103    Val Accuracy 0.9555555555555556\n",
      "6500    Loss:  0.0019551704006548322    Train Accuracy:  0.9979123173277662    Val Accuracy 0.9583333333333334\n",
      "6600    Loss:  0.0018898444533148096    Train Accuracy:  0.9979123173277662    Val Accuracy 0.9583333333333334\n",
      "6700    Loss:  0.0018683377068783177    Train Accuracy:  0.9979123173277662    Val Accuracy 0.9583333333333334\n",
      "6800    Loss:  0.00179040831042811    Train Accuracy:  0.9979123173277662    Val Accuracy 0.9555555555555556\n",
      "6900    Loss:  0.0017335988878383665    Train Accuracy:  0.9979123173277662    Val Accuracy 0.9555555555555556\n",
      "7000    Loss:  0.0017280030289614045    Train Accuracy:  0.9986082115518441    Val Accuracy 0.9583333333333334\n",
      "7100    Loss:  0.0016791300531181312    Train Accuracy:  0.9986082115518441    Val Accuracy 0.9583333333333334\n",
      "7200    Loss:  0.0017035233530183975    Train Accuracy:  0.9986082115518441    Val Accuracy 0.9583333333333334\n",
      "7300    Loss:  0.0016184862818838018    Train Accuracy:  0.9979123173277662    Val Accuracy 0.9583333333333334\n",
      "7400    Loss:  0.001574881991169309    Train Accuracy:  0.9986082115518441    Val Accuracy 0.9611111111111111\n",
      "7500    Loss:  0.0016029546437402744    Train Accuracy:  0.9986082115518441    Val Accuracy 0.9555555555555556\n"
     ]
    },
    {
     "name": "stdout",
     "output_type": "stream",
     "text": [
      "7600    Loss:  0.0015467557552053908    Train Accuracy:  0.9986082115518441    Val Accuracy 0.9638888888888889\n",
      "7700    Loss:  0.0014971571942352215    Train Accuracy:  0.9986082115518441    Val Accuracy 0.9583333333333334\n",
      "7800    Loss:  0.0015503858881753436    Train Accuracy:  0.9993041057759221    Val Accuracy 0.9555555555555556\n",
      "7900    Loss:  0.0014350711086809258    Train Accuracy:  0.9993041057759221    Val Accuracy 0.9527777777777777\n",
      "8000    Loss:  0.0014834039455941818    Train Accuracy:  0.9993041057759221    Val Accuracy 0.9555555555555556\n",
      "8100    Loss:  0.001435897019795694    Train Accuracy:  0.9993041057759221    Val Accuracy 0.9583333333333334\n",
      "8200    Loss:  0.0014200247218954815    Train Accuracy:  0.9986082115518441    Val Accuracy 0.9638888888888889\n",
      "8300    Loss:  0.0014268605867447893    Train Accuracy:  0.9986082115518441    Val Accuracy 0.9638888888888889\n",
      "8400    Loss:  0.0013153977888860525    Train Accuracy:  0.9993041057759221    Val Accuracy 0.9611111111111111\n",
      "8500    Loss:  0.0013077057237139218    Train Accuracy:  0.9993041057759221    Val Accuracy 0.9611111111111111\n",
      "8600    Loss:  0.0012550731458452458    Train Accuracy:  0.9986082115518441    Val Accuracy 0.9527777777777777\n",
      "8700    Loss:  0.0013363761856300964    Train Accuracy:  1.0    Val Accuracy 0.9611111111111111\n",
      "8800    Loss:  0.0012106169459759572    Train Accuracy:  0.9993041057759221    Val Accuracy 0.9583333333333334\n",
      "8900    Loss:  0.0012168562440055316    Train Accuracy:  0.9993041057759221    Val Accuracy 0.9583333333333334\n",
      "9000    Loss:  0.0011912015521920061    Train Accuracy:  0.9993041057759221    Val Accuracy 0.9583333333333334\n",
      "9100    Loss:  0.0011752790826521965    Train Accuracy:  1.0    Val Accuracy 0.9583333333333334\n",
      "9200    Loss:  0.001149014992164969    Train Accuracy:  1.0    Val Accuracy 0.9611111111111111\n",
      "9300    Loss:  0.0011376897518140272    Train Accuracy:  1.0    Val Accuracy 0.9611111111111111\n",
      "9400    Loss:  0.0010840377150430189    Train Accuracy:  1.0    Val Accuracy 0.9611111111111111\n",
      "9500    Loss:  0.0010798505920195565    Train Accuracy:  1.0    Val Accuracy 0.9583333333333334\n",
      "9600    Loss:  0.0010850428640336652    Train Accuracy:  1.0    Val Accuracy 0.9638888888888889\n",
      "9700    Loss:  0.0010418432750667777    Train Accuracy:  1.0    Val Accuracy 0.9527777777777777\n",
      "9800    Loss:  0.0010340324733422617    Train Accuracy:  1.0    Val Accuracy 0.9611111111111111\n",
      "9900    Loss:  0.001004947935381343    Train Accuracy:  1.0    Val Accuracy 0.9611111111111111\n"
     ]
    }
   ],
   "source": [
    "from sklearn.datasets import load_digits\n",
    "import matplotlib.pyplot as plt\n",
    "import ml_scratch as ml\n",
    "import numpy as np\n",
    "from sklearn.model_selection import train_test_split\n",
    "\n",
    "\n",
    "nn = ml.NeuralNetwork()\n",
    "X_orig, y_orig = load_digits(return_X_y = True)\n",
    "X = X_orig/16.\n",
    "\n",
    "y = np.zeros((len(y_orig), 10))\n",
    "for i in range(len(y_orig)):\n",
    "    y[i, y_orig[i]] = 1\n",
    "\n",
    "\n",
    "X_train, X_val, y_train, y_val = train_test_split(X, y, test_size = 0.2)\n",
    "    \n",
    "    \n",
    "nn.fit(X_train, y_train, X_val=X_val, y_val=y_val)"
   ]
  },
  {
   "cell_type": "code",
   "execution_count": 26,
   "metadata": {},
   "outputs": [
    {
     "data": {
      "text/plain": [
       "<matplotlib.image.AxesImage at 0x7f20a60acf10>"
      ]
     },
     "execution_count": 26,
     "metadata": {},
     "output_type": "execute_result"
    },
    {
     "data": {
      "image/png": "[encoded data removed]",
      "text/plain": [
       "<Figure size 432x288 with 1 Axes>"
      ]
     },
     "metadata": {
      "needs_background": "light"
     },
     "output_type": "display_data"
    }
   ],
   "source": [
    "plt.imshow(X_val[0].reshape(8,8))"
   ]
  },
  {
   "cell_type": "code",
   "execution_count": 27,
   "metadata": {},
   "outputs": [
    {
     "data": {
      "text/plain": [
       "array([0., 0., 0., 0., 0., 0., 0., 1., 0., 0.])"
      ]
     },
     "execution_count": 27,
     "metadata": {},
     "output_type": "execute_result"
    }
   ],
   "source": [
    "y_val[0]"
   ]
  },
  {
   "cell_type": "code",
   "execution_count": 28,
   "metadata": {},
   "outputs": [
    {
     "data": {
      "text/plain": [
       "7"
      ]
     },
     "execution_count": 28,
     "metadata": {},
     "output_type": "execute_result"
    }
   ],
   "source": [
    "np.argmax(nn.predict(X_val[0].reshape(1, -1)))"
   ]
  },
  {
   "cell_type": "code",
   "execution_count": 29,
   "metadata": {},
   "outputs": [
    {
     "data": {
      "text/plain": [
       "(360, 64)"
      ]
     },
     "execution_count": 29,
     "metadata": {},
     "output_type": "execute_result"
    }
   ],
   "source": [
    "X_val.shape"
   ]
  },
  {
   "cell_type": "code",
   "execution_count": 21,
   "metadata": {},
   "outputs": [
    {
     "data": {
      "text/plain": [
       "(64,)"
      ]
     },
     "execution_count": 21,
     "metadata": {},
     "output_type": "execute_result"
    }
   ],
   "source": [
    "X_val[0].shape"
   ]
  },
  {
   "cell_type": "code",
   "execution_count": null,
   "metadata": {},
   "outputs": [],
   "source": []
  }
 ],
 "metadata": {
  "kernelspec": {
   "display_name": "Python 3",
   "language": "python",
   "name": "python3"
  },
  "language_info": {
   "codemirror_mode": {
    "name": "ipython",
    "version": 3
   },
   "file_extension": ".py",
   "mimetype": "text/x-python",
   "name": "python",
   "nbconvert_exporter": "python",
   "pygments_lexer": "ipython3",
   "version": "3.8.2"
  }
 },
 "nbformat": 4,
 "nbformat_minor": 4
}
