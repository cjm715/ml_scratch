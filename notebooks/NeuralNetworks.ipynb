{
 "cells": [
  {
   "cell_type": "code",
   "execution_count": 4,
   "metadata": {},
   "outputs": [
    {
     "name": "stdout",
     "output_type": "stream",
     "text": [
      "Obtaining file:///home/chris/Projects/ml_scratch\n",
      "Installing collected packages: ml-scratch\n",
      "  Attempting uninstall: ml-scratch\n",
      "    Found existing installation: ml-scratch 0.0.1\n",
      "    Uninstalling ml-scratch-0.0.1:\n",
      "      Successfully uninstalled ml-scratch-0.0.1\n",
      "  Running setup.py develop for ml-scratch\n",
      "Successfully installed ml-scratch\n"
     ]
    }
   ],
   "source": [
    "!pip install -e .."
   ]
  },
  {
   "cell_type": "code",
   "execution_count": 7,
   "metadata": {},
   "outputs": [],
   "source": [
    "from sklearn.datasets import load_digits\n",
    "import matplotlib.pyplot as plt \n",
    "import ml_scratch as ml\n",
    "\n",
    "X,y = load_digits(return_X_y = True)\n",
    "\n",
    "ximg = X[0].reshape(8, 8)\n",
    "plt.imshow(ximg)\n",
    "\n",
    "ximg\n",
    "\n"
   ]
  }
 ],
 "metadata": {
  "kernelspec": {
   "display_name": "Python 3",
   "language": "python",
   "name": "python3"
  },
  "language_info": {
   "codemirror_mode": {
    "name": "ipython",
    "version": 3
   },
   "file_extension": ".py",
   "mimetype": "text/x-python",
   "name": "python",
   "nbconvert_exporter": "python",
   "pygments_lexer": "ipython3",
   "version": "3.8.2"
  }
 },
 "nbformat": 4,
 "nbformat_minor": 4
}
